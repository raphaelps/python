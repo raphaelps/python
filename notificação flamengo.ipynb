{
 "cells": [
  {
   "cell_type": "markdown",
   "id": "14b08953",
   "metadata": {},
   "source": [
    "#Antes de rodar o codigo deve ser instalado o chrome webdriver no computador. Foi usado o GoogleChrome no projeto, mas pode ser usado o firefox ou navegador de sua preferencia,\n",
    "Recomendo o uso do chrome nos testes."
   ]
  },
  {
   "cell_type": "code",
   "execution_count": 12,
   "id": "4643adcf",
   "metadata": {},
   "outputs": [
    {
     "data": {
      "text/plain": [
       "'pt_BR.utf8'"
      ]
     },
     "execution_count": 12,
     "metadata": {},
     "output_type": "execute_result"
    }
   ],
   "source": [
    "from datetime import datetime, date, time, timezone\n",
    "from time import sleep\n",
    "from plyer import notification\n",
    "from selenium import webdriver\n",
    "from webdriver_manager.chrome import ChromeDriverManager\n",
    "from selenium.webdriver.chrome.service import Service\n",
    "from selenium.webdriver.common.keys import Keys\n",
    "from selenium.webdriver.common.by import By\n",
    "from datetime import datetime, date, time, timezone\n",
    "import locale\n",
    "locale.setlocale(locale.LC_ALL, 'pt_BR.utf8')"
   ]
  },
  {
   "cell_type": "code",
   "execution_count": 13,
   "id": "2e1245ca",
   "metadata": {},
   "outputs": [
    {
     "name": "stderr",
     "output_type": "stream",
     "text": [
      "C:\\Users\\Raphael\\AppData\\Local\\Temp\\ipykernel_3160\\3923229041.py:5: DeprecationWarning: use options instead of chrome_options\n",
      "  navegador = webdriver.Chrome(service=servico, chrome_options=options)\n"
     ]
    }
   ],
   "source": [
    "servico = Service(ChromeDriverManager().install())\n",
    "# abrir um navegador\n",
    "options = webdriver.ChromeOptions()\n",
    "options.add_argument(\"--headless\")\n",
    "navegador = webdriver.Chrome(service=servico, chrome_options=options)\n",
    "\n",
    "# caso queira deixar na mesma pasta do seu código\n",
    "# navegador = webdriver.Chrome(\"chromedriver.exe\")\n",
    "url = 'https://www.futebol.com/futebol/brasil/equipos/flamengo/'\n",
    "navegador.get(url)"
   ]
  },
  {
   "cell_type": "code",
   "execution_count": 14,
   "id": "b213a4e0",
   "metadata": {},
   "outputs": [],
   "source": [
    "jogo = navegador.find_element(By.XPATH, '//*[@id=\"featured-match-4672675\"]/div[1]/div/a[1]/div[2]').get_attribute(\"innerText\")\n",
    "jogo = jogo.replace(\" de \",\"/\")\n",
    "hora = navegador.find_element(By.XPATH, '//*[@id=\"featured-match-4672675\"]/div[1]/div/a[1]/div[6]/span').get_attribute(\"textContent\")\n",
    "\n",
    "Jogo_hora= jogo+\" \"+hora\n",
    "dt = datetime.strptime(Jogo_hora, \"%d/%B/%Y %H:%M\")\n",
    "tt = datetime.fromisoformat(str(dt))\n",
    "navegador.close()"
   ]
  },
  {
   "cell_type": "code",
   "execution_count": 15,
   "id": "f226552b",
   "metadata": {},
   "outputs": [
    {
     "name": "stdout",
     "output_type": "stream",
     "text": [
      "53.05\n"
     ]
    }
   ],
   "source": [
    "today = datetime.now()\n",
    "dia_jogo = datetime.fromisoformat(str(tt))\n",
    "dif = dia_jogo - today\n",
    "difSegundos = dif.total_seconds()\n",
    "difHoras = difSegundos/(60*60)\n",
    "\n",
    "difHoras = round(difHoras,2)\n",
    "difHorasStr = str(difHoras)\n",
    "print(difHoras)"
   ]
  },
  {
   "cell_type": "code",
   "execution_count": 16,
   "id": "1dc43d5c",
   "metadata": {},
   "outputs": [],
   "source": [
    "if __name__ == \"__main__\":\n",
    "    notification.notify(\n",
    "    title = \"ATENÇÃO!\",\n",
    "    message = \"FALTAM \" +difHorasStr+ \" horas para o jogo. \\n Vamos pra cima deles Mengo\",\n",
    "    timeout = 2\n",
    "    )\n",
    "sleep(7)\n"
   ]
  },
  {
   "cell_type": "code",
   "execution_count": null,
   "id": "e112b043",
   "metadata": {},
   "outputs": [],
   "source": []
  }
 ],
 "metadata": {
  "kernelspec": {
   "display_name": "Python 3 (ipykernel)",
   "language": "python",
   "name": "python3"
  },
  "language_info": {
   "codemirror_mode": {
    "name": "ipython",
    "version": 3
   },
   "file_extension": ".py",
   "mimetype": "text/x-python",
   "name": "python",
   "nbconvert_exporter": "python",
   "pygments_lexer": "ipython3",
   "version": "3.9.12"
  }
 },
 "nbformat": 4,
 "nbformat_minor": 5
}
