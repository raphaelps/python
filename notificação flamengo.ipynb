{
 "cells": [
  {
   "cell_type": "markdown",
   "id": "14b08953",
   "metadata": {},
   "source": [
    "#Antes de rodar o codigo deve ser instalado o chrome webdriver no computador. Foi usado o GoogleChrome no projeto, mas pode ser usado o firefox ou navegador de sua preferencia,\n",
    "Recomendo o uso do chrome nos testes."
   ]
  },
  {
   "cell_type": "code",
   "execution_count": 9,
   "id": "79404c34",
   "metadata": {},
   "outputs": [
    {
     "name": "stdout",
     "output_type": "stream",
     "text": [
      "Defaulting to user installation because normal site-packages is not writeable\n",
      "Requirement already satisfied: plyer in c:\\users\\raphael\\appdata\\roaming\\python\\python310\\site-packages (2.0.0)\n",
      "Defaulting to user installation because normal site-packages is not writeable\n",
      "Requirement already satisfied: selenium in c:\\users\\raphael\\appdata\\roaming\\python\\python310\\site-packages (4.5.0)\n",
      "Requirement already satisfied: urllib3[socks]~=1.26 in c:\\users\\raphael\\appdata\\roaming\\python\\python310\\site-packages (from selenium) (1.26.12)\n",
      "Requirement already satisfied: certifi>=2021.10.8 in c:\\users\\raphael\\appdata\\roaming\\python\\python310\\site-packages (from selenium) (2022.9.24)\n",
      "Requirement already satisfied: trio-websocket~=0.9 in c:\\users\\raphael\\appdata\\roaming\\python\\python310\\site-packages (from selenium) (0.9.2)\n",
      "Requirement already satisfied: trio~=0.17 in c:\\users\\raphael\\appdata\\roaming\\python\\python310\\site-packages (from selenium) (0.22.0)\n",
      "Requirement already satisfied: sortedcontainers in c:\\users\\raphael\\appdata\\roaming\\python\\python310\\site-packages (from trio~=0.17->selenium) (2.4.0)\n",
      "Requirement already satisfied: exceptiongroup>=1.0.0rc9 in c:\\users\\raphael\\appdata\\roaming\\python\\python310\\site-packages (from trio~=0.17->selenium) (1.0.0)\n",
      "Requirement already satisfied: outcome in c:\\users\\raphael\\appdata\\roaming\\python\\python310\\site-packages (from trio~=0.17->selenium) (1.2.0)\n",
      "Requirement already satisfied: sniffio in c:\\users\\raphael\\appdata\\roaming\\python\\python310\\site-packages (from trio~=0.17->selenium) (1.3.0)\n",
      "Requirement already satisfied: idna in c:\\users\\raphael\\appdata\\roaming\\python\\python310\\site-packages (from trio~=0.17->selenium) (3.4)\n",
      "Requirement already satisfied: async-generator>=1.9 in c:\\users\\raphael\\appdata\\roaming\\python\\python310\\site-packages (from trio~=0.17->selenium) (1.10)\n",
      "Requirement already satisfied: attrs>=19.2.0 in c:\\users\\raphael\\appdata\\roaming\\python\\python310\\site-packages (from trio~=0.17->selenium) (22.1.0)\n",
      "Requirement already satisfied: cffi>=1.14 in c:\\users\\raphael\\appdata\\roaming\\python\\python310\\site-packages (from trio~=0.17->selenium) (1.15.1)\n",
      "Requirement already satisfied: wsproto>=0.14 in c:\\users\\raphael\\appdata\\roaming\\python\\python310\\site-packages (from trio-websocket~=0.9->selenium) (1.2.0)\n",
      "Requirement already satisfied: PySocks!=1.5.7,<2.0,>=1.5.6 in c:\\users\\raphael\\appdata\\roaming\\python\\python310\\site-packages (from urllib3[socks]~=1.26->selenium) (1.7.1)\n",
      "Requirement already satisfied: pycparser in c:\\users\\raphael\\appdata\\roaming\\python\\python310\\site-packages (from cffi>=1.14->trio~=0.17->selenium) (2.21)\n",
      "Requirement already satisfied: h11<1,>=0.9.0 in c:\\users\\raphael\\appdata\\roaming\\python\\python310\\site-packages (from wsproto>=0.14->trio-websocket~=0.9->selenium) (0.14.0)\n",
      "Defaulting to user installation because normal site-packages is not writeable\n",
      "Requirement already satisfied: webdriver_manager in c:\\users\\raphael\\appdata\\roaming\\python\\python310\\site-packages (3.8.4)\n",
      "Requirement already satisfied: requests in c:\\users\\raphael\\appdata\\roaming\\python\\python310\\site-packages (from webdriver_manager) (2.28.1)\n",
      "Requirement already satisfied: python-dotenv in c:\\users\\raphael\\appdata\\roaming\\python\\python310\\site-packages (from webdriver_manager) (0.21.0)\n",
      "Requirement already satisfied: tqdm in c:\\users\\raphael\\appdata\\roaming\\python\\python310\\site-packages (from webdriver_manager) (4.64.1)\n",
      "Requirement already satisfied: certifi>=2017.4.17 in c:\\users\\raphael\\appdata\\roaming\\python\\python310\\site-packages (from requests->webdriver_manager) (2022.9.24)\n",
      "Requirement already satisfied: charset-normalizer<3,>=2 in c:\\users\\raphael\\appdata\\roaming\\python\\python310\\site-packages (from requests->webdriver_manager) (2.1.1)\n",
      "Requirement already satisfied: idna<4,>=2.5 in c:\\users\\raphael\\appdata\\roaming\\python\\python310\\site-packages (from requests->webdriver_manager) (3.4)\n",
      "Requirement already satisfied: urllib3<1.27,>=1.21.1 in c:\\users\\raphael\\appdata\\roaming\\python\\python310\\site-packages (from requests->webdriver_manager) (1.26.12)\n",
      "Requirement already satisfied: colorama in c:\\users\\raphael\\appdata\\roaming\\python\\python310\\site-packages (from tqdm->webdriver_manager) (0.4.5)\n"
     ]
    }
   ],
   "source": [
    "!pip install plyer\n",
    "!pip install selenium\n",
    "!pip install webdriver_manager\n"
   ]
  },
  {
   "cell_type": "code",
   "execution_count": 10,
   "id": "4643adcf",
   "metadata": {},
   "outputs": [
    {
     "data": {
      "text/plain": [
       "'pt_BR.utf8'"
      ]
     },
     "execution_count": 10,
     "metadata": {},
     "output_type": "execute_result"
    }
   ],
   "source": [
    "from datetime import datetime, date, time, timezone\n",
    "from time import sleep\n",
    "from plyer import notification\n",
    "from selenium import webdriver\n",
    "from webdriver_manager.chrome import ChromeDriverManager\n",
    "from selenium.webdriver.chrome.service import Service\n",
    "from selenium.webdriver.common.keys import Keys\n",
    "from selenium.webdriver.common.by import By\n",
    "from datetime import datetime, date, time, timezone\n",
    "import locale\n",
    "locale.setlocale(locale.LC_ALL, 'pt_BR.utf8')"
   ]
  },
  {
   "cell_type": "code",
   "execution_count": 4,
   "id": "2e1245ca",
   "metadata": {},
   "outputs": [
    {
     "name": "stderr",
     "output_type": "stream",
     "text": [
      "C:\\Users\\Raphael\\AppData\\Local\\Temp\\ipykernel_5152\\3923229041.py:5: DeprecationWarning: use options instead of chrome_options\n",
      "  navegador = webdriver.Chrome(service=servico, chrome_options=options)\n"
     ]
    }
   ],
   "source": [
    "servico = Service(ChromeDriverManager().install())\n",
    "# abrir um navegador\n",
    "options = webdriver.ChromeOptions()\n",
    "options.add_argument(\"--headless\")\n",
    "navegador = webdriver.Chrome(service=servico, chrome_options=options)\n",
    "\n",
    "# caso queira deixar na mesma pasta do seu código\n",
    "# navegador = webdriver.Chrome(\"chromedriver.exe\")\n",
    "url = 'https://www.futebol.com/futebol/brasil/equipos/flamengo/'\n",
    "navegador.get(url)"
   ]
  },
  {
   "cell_type": "code",
   "execution_count": 5,
   "id": "b213a4e0",
   "metadata": {},
   "outputs": [],
   "source": [
    "jogo = navegador.find_element(By.XPATH, '//*[@id=\"featured-match-4672675\"]/div[1]/div/a[1]/div[2]').get_attribute(\"innerText\")\n",
    "jogo = jogo.replace(\" de \",\"/\")\n",
    "hora = navegador.find_element(By.XPATH, '//*[@id=\"featured-match-4672675\"]/div[1]/div/a[1]/div[6]/span').get_attribute(\"textContent\")\n",
    "\n",
    "Jogo_hora= jogo+\" \"+hora\n",
    "dt = datetime.strptime(Jogo_hora, \"%d/%B/%Y %H:%M\")\n",
    "tt = datetime.fromisoformat(str(dt))\n",
    "navegador.close()"
   ]
  },
  {
   "cell_type": "code",
   "execution_count": 6,
   "id": "f226552b",
   "metadata": {},
   "outputs": [
    {
     "name": "stdout",
     "output_type": "stream",
     "text": [
      "52.34\n"
     ]
    }
   ],
   "source": [
    "today = datetime.now()\n",
    "dia_jogo = datetime.fromisoformat(str(tt))\n",
    "dif = dia_jogo - today\n",
    "difSegundos = dif.total_seconds()\n",
    "difHoras = difSegundos/(60*60)\n",
    "\n",
    "difHoras = round(difHoras,2)\n",
    "difHorasStr = str(difHoras)\n",
    "print(difHoras)"
   ]
  },
  {
   "cell_type": "code",
   "execution_count": 7,
   "id": "1dc43d5c",
   "metadata": {},
   "outputs": [],
   "source": [
    "if __name__ == \"__main__\":\n",
    "    notification.notify(\n",
    "    title = \"ATENÇÃO!\",\n",
    "    message = \"FALTAM \" +difHorasStr+ \" horas para o jogo. \\n Vamos pra cima deles Mengo\",\n",
    "    timeout = 2\n",
    "    )\n",
    "sleep(7)"
   ]
  },
  {
   "cell_type": "code",
   "execution_count": null,
   "id": "e112b043",
   "metadata": {},
   "outputs": [],
   "source": []
  }
 ],
 "metadata": {
  "kernelspec": {
   "display_name": "Python 3.10.6 64-bit",
   "language": "python",
   "name": "python3"
  },
  "language_info": {
   "codemirror_mode": {
    "name": "ipython",
    "version": 3
   },
   "file_extension": ".py",
   "mimetype": "text/x-python",
   "name": "python",
   "nbconvert_exporter": "python",
   "pygments_lexer": "ipython3",
   "version": "3.10.6"
  },
  "vscode": {
   "interpreter": {
    "hash": "26de051ba29f2982a8de78e945f0abaf191376122a1563185a90213a26c5da77"
   }
  }
 },
 "nbformat": 4,
 "nbformat_minor": 5
}
